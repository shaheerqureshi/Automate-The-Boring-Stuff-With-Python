{
 "cells": [
  {
   "cell_type": "code",
   "execution_count": 19,
   "id": "368aa1d7",
   "metadata": {},
   "outputs": [
    {
     "name": "stdout",
     "output_type": "stream",
     "text": [
      "Hello, world!\n",
      "What is your name?\n",
      "sdf\n",
      "It is good to meet you, sdf\n",
      "The length of your name is:\n",
      "3\n",
      "What is your age?\n",
      "11\n",
      "<class 'str'>\n",
      "You will be 12 in a year.\n"
     ]
    }
   ],
   "source": [
    "print('Hello, world!')\n",
    "print('What is your name?') # ask for their name\n",
    "myName = input()\n",
    "print('It is good to meet you, ' + myName)\n",
    "print('The length of your name is:')\n",
    "print(len(myName))\n",
    "print('What is your age?') # ask for their age\n",
    "myAge = input()\n",
    "print(type(myAge))\n",
    "print('You will be ' + str(int(myAge) + 1) + ' in a year.')"
   ]
  },
  {
   "cell_type": "code",
   "execution_count": 6,
   "id": "087b35dc",
   "metadata": {},
   "outputs": [
    {
     "name": "stdout",
     "output_type": "stream",
     "text": [
      "Hello Mary\n",
      "please enter your password\n",
      "kjh\n",
      "wrong Password\n"
     ]
    }
   ],
   "source": [
    "import time\n",
    "name = 'Mary'\n",
    "if name == 'Mary':\n",
    "    print(\"Hello \" + name)\n",
    "    time.sleep(1.5)\n",
    "    print('please enter your password')\n",
    "    passw = input()\n",
    "    if passw == 'shaheer':\n",
    "        print('access granted: Welcome' + name)\n",
    "    else:\n",
    "        print('wrong Password')"
   ]
  },
  {
   "cell_type": "code",
   "execution_count": 7,
   "id": "6d0891a3",
   "metadata": {},
   "outputs": [
    {
     "name": "stdout",
     "output_type": "stream",
     "text": [
      "shaheer\n",
      "shaheer\n",
      "shaheer\n",
      "shaheer\n",
      "shaheer\n"
     ]
    }
   ],
   "source": [
    "spam = 0\n",
    "while spam < 5:\n",
    "    print('shaheer')\n",
    "    spam = spam + 1"
   ]
  },
  {
   "cell_type": "code",
   "execution_count": 8,
   "id": "455128a5",
   "metadata": {},
   "outputs": [
    {
     "name": "stdout",
     "output_type": "stream",
     "text": [
      "Enter your name\n",
      "imran\n",
      "Enter your name\n",
      "khan\n",
      "Enter your name\n",
      "nawaz\n",
      "Enter your name\n",
      "shaheer\n",
      "Enter your name\n",
      "Shaheer\n",
      "YOU ARE CORRECT\n",
      "THANKS YOU\n"
     ]
    }
   ],
   "source": [
    "while True:\n",
    "    print(\"Enter your name\")\n",
    "    name = input()\n",
    "    if name == 'Shaheer':\n",
    "        print('YOU ARE CORRECT')\n",
    "        break\n",
    "print('THANKS YOU')"
   ]
  },
  {
   "cell_type": "code",
   "execution_count": 9,
   "id": "06ed3431",
   "metadata": {},
   "outputs": [
    {
     "name": "stdout",
     "output_type": "stream",
     "text": [
      "Enter Name\n",
      "shhh\n",
      "Enter Name\n",
      "shaheer\n",
      "Hey Joe; Enter your Password\n",
      "so\n",
      "Enter Name\n",
      "swordfish\n",
      "Enter Name\n",
      "shaheer\n",
      "Hey Joe; Enter your Password\n",
      "swordfish\n",
      "access granted\n"
     ]
    }
   ],
   "source": [
    "while True:\n",
    "    print(\"Enter Name\")\n",
    "    name = input()\n",
    "    if name != 'shaheer':\n",
    "        continue\n",
    "    print('Hey Joe; Enter your Password')\n",
    "    password = input()\n",
    "    if password == 'swordfish':\n",
    "        break\n",
    "print('access granted')"
   ]
  },
  {
   "cell_type": "code",
   "execution_count": 12,
   "id": "de9dba3d",
   "metadata": {},
   "outputs": [
    {
     "name": "stdout",
     "output_type": "stream",
     "text": [
      "Who are you?\n",
      "Mike\n",
      "Who are you?\n",
      "shaheer\n",
      "Hey shaheer Enter your password\n",
      "mypass\n",
      "Access Granted\n"
     ]
    }
   ],
   "source": [
    "while True:\n",
    "    print('Who are you?')\n",
    "    name = input()\n",
    "    if name != 'shaheer':\n",
    "        continue\n",
    "    print('Hey ' + name + ' Enter your password')\n",
    "    passw = input()\n",
    "    if passw == 'mypass':\n",
    "        print('Access Granted')\n",
    "        break"
   ]
  },
  {
   "cell_type": "code",
   "execution_count": 13,
   "id": "0fff4874",
   "metadata": {},
   "outputs": [
    {
     "name": "stdout",
     "output_type": "stream",
     "text": [
      "12\n",
      "13\n",
      "14\n",
      "15\n"
     ]
    }
   ],
   "source": [
    "for i in range(12, 16):\n",
    " print(i)"
   ]
  },
  {
   "cell_type": "code",
   "execution_count": 14,
   "id": "ba759ed1",
   "metadata": {},
   "outputs": [
    {
     "name": "stdout",
     "output_type": "stream",
     "text": [
      "0\n",
      "2\n",
      "4\n",
      "6\n",
      "8\n"
     ]
    }
   ],
   "source": [
    "#first 2 agrs are range and 3rd is step arg\n",
    "for i in range(0, 10, 2):\n",
    " print(i)"
   ]
  },
  {
   "cell_type": "code",
   "execution_count": 16,
   "id": "5c7944f5",
   "metadata": {},
   "outputs": [
    {
     "name": "stdout",
     "output_type": "stream",
     "text": [
      "What you want me to do ? EXIT ???\n",
      "Y or N\n",
      "y\n"
     ]
    },
    {
     "ename": "SystemExit",
     "evalue": "",
     "output_type": "error",
     "traceback": [
      "An exception has occurred, use %tb to see the full traceback.\n",
      "\u001b[1;31mSystemExit\u001b[0m\n"
     ]
    }
   ],
   "source": [
    "#exiting from a program\n",
    "import sys\n",
    "\n",
    "while True:\n",
    "    print('What you want me to do ? EXIT ???')\n",
    "    print('Y or N')\n",
    "    choice = input()\n",
    "    if choice == 'y':\n",
    "        sys.exit()\n",
    "        break\n",
    "    else:\n",
    "        print('Oops you scared to exit')\n",
    "\n",
    "print('you asked for it')\n",
    "    "
   ]
  },
  {
   "cell_type": "code",
   "execution_count": 18,
   "id": "3fe4823d",
   "metadata": {},
   "outputs": [
    {
     "name": "stdout",
     "output_type": "stream",
     "text": [
      "Hello\n",
      "Hey\n",
      "Waaasssuuupppp\n",
      "Hello\n",
      "Hey\n",
      "Waaasssuuupppp\n"
     ]
    }
   ],
   "source": [
    "#functions\n",
    "def greeting():\n",
    "    print('Hello')\n",
    "    print('Hey')\n",
    "    print('Waaasssuuupppp')\n",
    "    \n",
    "\n",
    "greeting()\n",
    "greeting()"
   ]
  },
  {
   "cell_type": "code",
   "execution_count": 19,
   "id": "63f2c062",
   "metadata": {},
   "outputs": [
    {
     "name": "stdout",
     "output_type": "stream",
     "text": [
      "hello Shaheer\n"
     ]
    }
   ],
   "source": [
    "def hello(name):\n",
    "    print('hello ' + name )\n",
    "\n",
    "hello('Shaheer')"
   ]
  },
  {
   "cell_type": "code",
   "execution_count": 27,
   "id": "ef9ec644",
   "metadata": {},
   "outputs": [
    {
     "name": "stdout",
     "output_type": "stream",
     "text": [
      "Ask again later\n"
     ]
    }
   ],
   "source": [
    "import random\n",
    "\n",
    "def getAnswers(answerNumber):\n",
    "    if answerNumber == 1:\n",
    "         return 'It is certain'\n",
    "    elif answerNumber == 2:\n",
    "         return 'It is decidedly so'\n",
    "    elif answerNumber == 3:\n",
    "         return 'Yes'\n",
    "    elif answerNumber == 4:\n",
    "         return 'Reply hazy try again'\n",
    "    elif answerNumber == 5:\n",
    "         return 'Ask again later'\n",
    "    elif answerNumber == 6:\n",
    "         return 'Concentrate and ask again'\n",
    "    elif answerNumber == 7:\n",
    "         return 'My reply is no'\n",
    "    elif answerNumber == 8:\n",
    "         return 'Outlook not so good'\n",
    "    elif answerNumber == 9:\n",
    "         return 'Very doubtful'\n",
    "\n",
    "r = random.randint(1,9)\n",
    "fortune = getAnswers(r)\n",
    "print(fortune)"
   ]
  },
  {
   "cell_type": "code",
   "execution_count": 7,
   "id": "37285632",
   "metadata": {},
   "outputs": [
    {
     "name": "stdout",
     "output_type": "stream",
     "text": [
      "21.0\n",
      "0.7636363636363637\n"
     ]
    },
    {
     "ename": "ZeroDivisionError",
     "evalue": "division by zero",
     "output_type": "error",
     "traceback": [
      "\u001b[1;31m---------------------------------------------------------------------------\u001b[0m",
      "\u001b[1;31mZeroDivisionError\u001b[0m                         Traceback (most recent call last)",
      "Cell \u001b[1;32mIn [7], line 9\u001b[0m\n\u001b[0;32m      7\u001b[0m \u001b[38;5;28mprint\u001b[39m(divideFunc(\u001b[38;5;241m2\u001b[39m))\n\u001b[0;32m      8\u001b[0m \u001b[38;5;28mprint\u001b[39m(divideFunc(\u001b[38;5;241m55\u001b[39m))\n\u001b[1;32m----> 9\u001b[0m \u001b[38;5;28mprint\u001b[39m(\u001b[43mdivideFunc\u001b[49m\u001b[43m(\u001b[49m\u001b[38;5;241;43m0\u001b[39;49m\u001b[43m)\u001b[49m)\n\u001b[0;32m     10\u001b[0m \u001b[38;5;28mprint\u001b[39m(afterNum)\n",
      "Cell \u001b[1;32mIn [7], line 4\u001b[0m, in \u001b[0;36mdivideFunc\u001b[1;34m(divideBy)\u001b[0m\n\u001b[0;32m      3\u001b[0m \u001b[38;5;28;01mdef\u001b[39;00m \u001b[38;5;21mdivideFunc\u001b[39m(divideBy):\n\u001b[1;32m----> 4\u001b[0m     \u001b[38;5;28;01mreturn\u001b[39;00m \u001b[38;5;241;43m42\u001b[39;49m\u001b[43m \u001b[49m\u001b[38;5;241;43m/\u001b[39;49m\u001b[43m \u001b[49m\u001b[43mdivideBy\u001b[49m\n",
      "\u001b[1;31mZeroDivisionError\u001b[0m: division by zero"
     ]
    }
   ],
   "source": [
    "#exception Handling\n",
    "\n",
    "def divideFunc(divideBy):\n",
    "    return 42 / divideBy\n",
    "\n",
    "afterNum = divideFunc(22)\n",
    "print(divideFunc(2))\n",
    "print(divideFunc(55))\n",
    "print(divideFunc(0))\n",
    "print(afterNum)"
   ]
  },
  {
   "cell_type": "code",
   "execution_count": 9,
   "id": "7d2400f1",
   "metadata": {},
   "outputs": [
    {
     "name": "stdout",
     "output_type": "stream",
     "text": [
      "21.0\n",
      "0.7636363636363637\n",
      "Cannot divide a number by zero\n",
      "None\n",
      "1.9090909090909092\n"
     ]
    }
   ],
   "source": [
    "#exception Handling\n",
    "\n",
    "def divideFunc(divideBy):\n",
    "    try:\n",
    "        return 42 / divideBy\n",
    "    except ZeroDivisionError:\n",
    "        print(\"Cannot divide a number by zero\")\n",
    "\n",
    "afterNum = divideFunc(22)\n",
    "print(divideFunc(2))\n",
    "print(divideFunc(55))\n",
    "print(divideFunc(0))\n",
    "print(afterNum)"
   ]
  },
  {
   "cell_type": "code",
   "execution_count": null,
   "id": "24b8b38c",
   "metadata": {},
   "outputs": [],
   "source": []
  }
 ],
 "metadata": {
  "kernelspec": {
   "display_name": "Python 3 (ipykernel)",
   "language": "python",
   "name": "python3"
  },
  "language_info": {
   "codemirror_mode": {
    "name": "ipython",
    "version": 3
   },
   "file_extension": ".py",
   "mimetype": "text/x-python",
   "name": "python",
   "nbconvert_exporter": "python",
   "pygments_lexer": "ipython3",
   "version": "3.10.7"
  }
 },
 "nbformat": 4,
 "nbformat_minor": 5
}
