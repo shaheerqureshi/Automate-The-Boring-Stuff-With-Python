{
 "cells": [
  {
   "cell_type": "code",
   "execution_count": 19,
   "id": "368aa1d7",
   "metadata": {},
   "outputs": [
    {
     "name": "stdout",
     "output_type": "stream",
     "text": [
      "Hello, world!\n",
      "What is your name?\n",
      "sdf\n",
      "It is good to meet you, sdf\n",
      "The length of your name is:\n",
      "3\n",
      "What is your age?\n",
      "11\n",
      "<class 'str'>\n",
      "You will be 12 in a year.\n"
     ]
    }
   ],
   "source": [
    "print('Hello, world!')\n",
    "print('What is your name?') # ask for their name\n",
    "myName = input()\n",
    "print('It is good to meet you, ' + myName)\n",
    "print('The length of your name is:')\n",
    "print(len(myName))\n",
    "print('What is your age?') # ask for their age\n",
    "myAge = input()\n",
    "print(type(myAge))\n",
    "print('You will be ' + str(int(myAge) + 1) + ' in a year.')"
   ]
  },
  {
   "cell_type": "code",
   "execution_count": 6,
   "id": "087b35dc",
   "metadata": {},
   "outputs": [
    {
     "name": "stdout",
     "output_type": "stream",
     "text": [
      "Hello Mary\n",
      "please enter your password\n",
      "kjh\n",
      "wrong Password\n"
     ]
    }
   ],
   "source": [
    "import time\n",
    "name = 'Mary'\n",
    "if name == 'Mary':\n",
    "    print(\"Hello \" + name)\n",
    "    time.sleep(1.5)\n",
    "    print('please enter your password')\n",
    "    passw = input()\n",
    "    if passw == 'shaheer':\n",
    "        print('access granted: Welcome' + name)\n",
    "    else:\n",
    "        print('wrong Password')"
   ]
  },
  {
   "cell_type": "code",
   "execution_count": 7,
   "id": "80faa507",
   "metadata": {},
   "outputs": [
    {
     "name": "stdout",
     "output_type": "stream",
     "text": [
      "shaheer\n",
      "shaheer\n",
      "shaheer\n",
      "shaheer\n",
      "shaheer\n"
     ]
    }
   ],
   "source": [
    "spam = 0\n",
    "while spam < 5:\n",
    "    print('shaheer')\n",
    "    spam = spam + 1"
   ]
  },
  {
   "cell_type": "code",
   "execution_count": 8,
   "id": "a9c019e8",
   "metadata": {},
   "outputs": [
    {
     "name": "stdout",
     "output_type": "stream",
     "text": [
      "Enter your name\n",
      "imran\n",
      "Enter your name\n",
      "khan\n",
      "Enter your name\n",
      "nawaz\n",
      "Enter your name\n",
      "shaheer\n",
      "Enter your name\n",
      "Shaheer\n",
      "YOU ARE CORRECT\n",
      "THANKS YOU\n"
     ]
    }
   ],
   "source": [
    "while True:\n",
    "    print(\"Enter your name\")\n",
    "    name = input()\n",
    "    if name == 'Shaheer':\n",
    "        print('YOU ARE CORRECT')\n",
    "        break\n",
    "print('THANKS YOU')"
   ]
  },
  {
   "cell_type": "code",
   "execution_count": 9,
   "id": "deb2fbb8",
   "metadata": {},
   "outputs": [
    {
     "name": "stdout",
     "output_type": "stream",
     "text": [
      "Enter Name\n",
      "shhh\n",
      "Enter Name\n",
      "shaheer\n",
      "Hey Joe; Enter your Password\n",
      "so\n",
      "Enter Name\n",
      "swordfish\n",
      "Enter Name\n",
      "shaheer\n",
      "Hey Joe; Enter your Password\n",
      "swordfish\n",
      "access granted\n"
     ]
    }
   ],
   "source": [
    "while True:\n",
    "    print(\"Enter Name\")\n",
    "    name = input()\n",
    "    if name != 'shaheer':\n",
    "        continue\n",
    "    print('Hey Joe; Enter your Password')\n",
    "    password = input()\n",
    "    if password == 'swordfish':\n",
    "        break\n",
    "print('access granted')"
   ]
  },
  {
   "cell_type": "code",
   "execution_count": null,
   "id": "f8056363",
   "metadata": {},
   "outputs": [],
   "source": []
  }
 ],
 "metadata": {
  "kernelspec": {
   "display_name": "Python 3 (ipykernel)",
   "language": "python",
   "name": "python3"
  },
  "language_info": {
   "codemirror_mode": {
    "name": "ipython",
    "version": 3
   },
   "file_extension": ".py",
   "mimetype": "text/x-python",
   "name": "python",
   "nbconvert_exporter": "python",
   "pygments_lexer": "ipython3",
   "version": "3.10.7"
  }
 },
 "nbformat": 4,
 "nbformat_minor": 5
}
